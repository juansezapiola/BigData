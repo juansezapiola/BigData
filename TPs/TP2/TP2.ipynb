{
 "cells": [
  {
   "cell_type": "code",
   "execution_count": 1,
   "id": "a17fbdeb-d4cc-4c7f-a801-536b69da0e38",
   "metadata": {},
   "outputs": [],
   "source": [
    "#------------------Parte A-------------------#"
   ]
  },
  {
   "cell_type": "code",
   "execution_count": 2,
   "id": "af07a9fc-281d-44cf-ae38-577d43062562",
   "metadata": {},
   "outputs": [
    {
     "name": "stdout",
     "output_type": "stream",
     "text": [
      "<Response [200]>\n"
     ]
    }
   ],
   "source": [
    "#Ejercicio 1\n",
    "     \n",
    "import requests\n",
    "\n",
    "#busamos algun ítem de interés: Iphone 14 pro max \n",
    "buscar = \"iphone 14 pro max\"\n",
    "url = \"https://api.mercadolibre.com/sites/{}/search?q={}\".format(\"MLA\", buscar.replace(\" \", \"%20\"))\n",
    "response = requests.request(\"GET\", url)\n",
    "print(response) #Correcto \n",
    "\n",
    "#Chequeamos que el url sea el correcto\n",
    "url\n",
    "\n",
    "#Guardamos el resultado en un diccionario (json)\n",
    "data = response.json()\n",
    "#data                           #para ver su contenido"
   ]
  },
  {
   "cell_type": "code",
   "execution_count": 3,
   "id": "858e3356-83ed-4e85-96a2-e20a8696fd0b",
   "metadata": {},
   "outputs": [
    {
     "name": "stdout",
     "output_type": "stream",
     "text": [
      "Longitud de lista de resultados: 50\n",
      "Precio del primer resultado: 1720000\n",
      "     Precio\n",
      "0   1720000\n",
      "1   1720000\n",
      "2   1950000\n",
      "3   3000000\n",
      "4   2320000\n",
      "5   1890000\n",
      "6   1891000\n",
      "7   1890000\n",
      "8   3399999\n",
      "9   3399999\n",
      "10  5999999\n",
      "11  1250000\n",
      "12  1690000\n",
      "13  1899999\n",
      "14  1400000\n",
      "15  1800000\n",
      "16  1400000\n",
      "17  1915200\n",
      "18  1650000\n",
      "19  1915200\n",
      "20  1971200\n",
      "21  1429991\n",
      "22  1915200\n",
      "23  1728600\n",
      "24  1971200\n",
      "25  1915200\n",
      "26  1825600\n",
      "27  1948800\n",
      "28  1915200\n",
      "29  1825600\n",
      "30  1948800\n",
      "31  1799000\n",
      "32  1550000\n",
      "33  1300000\n",
      "34  1350000\n",
      "35   145000\n",
      "36  1300000\n",
      "37  1500000\n",
      "38  1500000\n",
      "39  1400000\n",
      "40   480000\n",
      "41  2300000\n",
      "42  1550000\n",
      "43  1170000\n",
      "44  1900000\n",
      "45  1750000\n",
      "46  1649000\n",
      "47  1300000\n",
      "48  1500000\n",
      "49  1600000\n",
      "Precio promedio: 1830795.74\n",
      "Precio máximo: 5999999\n",
      "Precio minimo: 145000\n"
     ]
    }
   ],
   "source": [
    "#Ejercicio 2\n",
    "\n",
    "#Cantidad de Resultados que obtenemos\n",
    "print('Longitud de lista de resultados:', len(data['results']))\n",
    "\n",
    "# Veamos el precio del primer resultado de la búsqueda\n",
    "print('Precio del primer resultado:', data['results'][0]['price'])\n",
    "\n",
    "\n",
    "import pandas as pd\n",
    "\n",
    "precios = []\n",
    "\n",
    "#Veamos el precio de todos los resultados \n",
    "\n",
    "for i, resultado in enumerate(data['results']): \n",
    "    #print(f'Precio del resultado {i}:', resultado['price'])\n",
    "    precios.append(resultado['price'])\n",
    "\n",
    "df_precios = pd.DataFrame(precios, columns=['Precio'])\n",
    "\n",
    "# Mostramos el DataFrame\n",
    "print(df_precios)\n",
    "\n",
    "\n",
    "#precio promedio:\n",
    "print('Precio promedio:', df_precios['Precio'].mean())   #1845031.74\n",
    "\n",
    "#precio máximo:\n",
    "print('Precio máximo:',df_precios['Precio'].max())    #5999999\n",
    "\n",
    "#precio minimo:\n",
    "print('Precio minimo:',df_precios['Precio'].min())    #145000\n"
   ]
  },
  {
   "cell_type": "code",
   "execution_count": 11,
   "id": "d6fbac87-d042-4200-aaf7-8c35c5f6d202",
   "metadata": {},
   "outputs": [
    {
     "data": {
      "image/png": "[encoded data removed]",
      "text/plain": [
       "<Figure size 640x480 with 1 Axes>"
      ]
     },
     "metadata": {},
     "output_type": "display_data"
    }
   ],
   "source": [
    "#Ejercicio 3\n",
    "\n",
    "import matplotlib.pyplot as plt\n",
    "import numpy as np\n",
    "\n",
    "#para poder visualizarlo \n",
    "%matplotlib inline\n",
    "\n",
    "plt.hist(df_precios['Precio'], bins=40, edgecolor='black')  \n",
    "plt.title('Histograma de Precios')\n",
    "plt.xlabel('Precio')        # muestra los precios multiplicados por 1 millón\n",
    "plt.ylabel('Frecuencia')\n",
    "plt.show()\n",
    "\n",
    "#A simple vista hay 5 outliers; 2 items muy baratos y 3 items demasiado caros. El precio de la mayoria de los items ronda entre 1 y 2 millones de pesos. "
   ]
  },
  {
   "cell_type": "code",
   "execution_count": null,
   "id": "70b184d4-ec0c-4d53-b9cd-b2de45a7bb9a",
   "metadata": {},
   "outputs": [],
   "source": [
    "#Ejercicio 4"
   ]
  },
  {
   "cell_type": "code",
   "execution_count": null,
   "id": "cdcaa72c-3c53-4baa-8f9a-3ba60b189121",
   "metadata": {},
   "outputs": [],
   "source": [
    "#------------------Parte B-------------------#"
   ]
  },
  {
   "cell_type": "code",
   "execution_count": null,
   "id": "64d94120-659f-4cd1-a196-bb249937ca78",
   "metadata": {},
   "outputs": [],
   "source": [
    "#Ejercicio 5"
   ]
  }
 ],
 "metadata": {
  "kernelspec": {
   "display_name": "Python 3 (ipykernel)",
   "language": "python",
   "name": "python3"
  },
  "language_info": {
   "codemirror_mode": {
    "name": "ipython",
    "version": 3
   },
   "file_extension": ".py",
   "mimetype": "text/x-python",
   "name": "python",
   "nbconvert_exporter": "python",
   "pygments_lexer": "ipython3",
   "version": "3.12.4"
  }
 },
 "nbformat": 4,
 "nbformat_minor": 5
}
