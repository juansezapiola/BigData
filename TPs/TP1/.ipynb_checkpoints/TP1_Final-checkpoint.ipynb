{
 "cells": [
  {
   "cell_type": "markdown",
   "metadata": {
    "collapsed": true,
    "id": "Dh8MkXaG-c9Y",
    "jupyter": {
     "outputs_hidden": true
    }
   },
   "source": [
    "# Machine Learning para Economistas\n",
    "\n",
    "## Trabajo Práctico 1"
   ]
  },
  {
   "cell_type": "markdown",
   "metadata": {
    "id": "RhBlm6mZ-c9e"
   },
   "source": [
    "### Reglas de formato y presentación\n",
    "- El trabajo debe estar bien comentado (utilizando #) para que el código sea fácil de entender por sus compañeros y profesores.\n",
    "\n",
    "- El mismo debe ser completado en este Jupyter Notebook y entregado como tal, es decir en un archivo .ipynb\n"
   ]
  },
  {
   "cell_type": "markdown",
   "metadata": {
    "id": "ZEjGaa4U-c9g"
   },
   "source": [
    "### Fecha de entrega:\n",
    "Viernes 4 de octubre a las 23:59hs"
   ]
  },
  {
   "cell_type": "markdown",
   "metadata": {
    "id": "N9TU2y7E-c9h"
   },
   "source": [
    "### Modalidad de entrega\n",
    "- Creen un respositorio de Github con su grupo para trabajar en las entregas.\n",
    "- Al finalizar el trabajo práctico deben hacer un último <i>commit</i> en su repositorio de GitHub con el mensaje “Entrega final del tp”. \n",
    "- Asegurense de haber creado una carpeta llamada TP1.\n",
    "- Tienen que completar con el link del repositorio en el Excel con los grupos: https://bit.ly/grupos_MLE\n",
    "- La última versión en el repositorio es la que será evaluada. Por lo que es importante que: \n",
    "    - No envien el correo hasta no haber terminado y estar seguros de que han hecho el <i>commit y push</i> a la versión final que quieren entregar.\n",
    "    - No hagan nuevos <i>push</i> despues de haber entregado su versión final. Esto generaría confusión acerca de que versión es la que quieren que se les corrija. "
   ]
  },
  {
   "cell_type": "markdown",
   "metadata": {
    "id": "ZXbrPraa-c9i"
   },
   "source": [
    "#### Ejercicio 1\n",
    "Este ejercicio simplemente busca repasar lo que aprendimos sobre definición de variables. Definir dos variables con un nombre combinado (al menos dos palabras), una que se pueda crear y otra que tenga un nombre inaceptable (genera error). Explicar por qué ocurre el error."
   ]
  },
  {
   "cell_type": "code",
   "execution_count": 1,
   "metadata": {
    "id": "mb7PkXfN-c9j"
   },
   "outputs": [
    {
     "name": "stdout",
     "output_type": "stream",
     "text": [
      "big data\n"
     ]
    }
   ],
   "source": [
    "# Caso A\n",
    "var1 = \"big data\"\n",
    "print(var1)"
   ]
  },
  {
   "cell_type": "code",
   "execution_count": 3,
   "metadata": {
    "id": "mb7PkXfN-c9j"
   },
   "outputs": [
    {
     "ename": "SyntaxError",
     "evalue": "cannot assign to expression here. Maybe you meant '==' instead of '='? (1718743057.py, line 2)",
     "output_type": "error",
     "traceback": [
      "\u001b[0;36m  Cell \u001b[0;32mIn[3], line 2\u001b[0;36m\u001b[0m\n\u001b[0;31m    var1-no = \"big data\" #Salta error porque python al (-) lo interpreta como una resta y no como un nombre para una variable.\u001b[0m\n\u001b[0m    ^\u001b[0m\n\u001b[0;31mSyntaxError\u001b[0m\u001b[0;31m:\u001b[0m cannot assign to expression here. Maybe you meant '==' instead of '='?\n"
     ]
    }
   ],
   "source": [
    "# Caso B (acá debería saltar un error)\n",
    "var1-no = \"big data\" #Salta error porque python al (-) lo interpreta como una resta y no como un nombre para una variable. "
   ]
  },
  {
   "cell_type": "markdown",
   "metadata": {},
   "source": [
    "#### Ejercicio 2\n",
    "Importar módulos. Usando el módulo math impriman la tangente de 1. ¿Cuál es el resultado?\n",
    "Hagan este cálculo de dos formas: primero importando el módulo math y usando la función correspondiente y luego solo importando la función específica que precisan para el cálculo."
   ]
  },
  {
   "cell_type": "code",
   "execution_count": 10,
   "metadata": {},
   "outputs": [
    {
     "name": "stdout",
     "output_type": "stream",
     "text": [
      "La tangente de 1 es: 1.5574077246549023\n",
      "La tangente de 1 es: 1.5574077246549023\n"
     ]
    }
   ],
   "source": [
    "# Caso A\n",
    "import math #Importamos el módulo math.\n",
    "tan = math.tan(1) #Calculamos e imprimimos la tangente de 1.\n",
    "print(\"La tangente de 1 es:\", tan)\n",
    "\n",
    "# Caso B\n",
    "from math import tan #Importamos la función de tangente del módulo math.\n",
    "print(\"La tangente de 1 es:\", tan(1)) #Calculamos e imprimimos la tangente de 1.\n"
   ]
  },
  {
   "cell_type": "markdown",
   "metadata": {
    "id": "GlNh0fyv-c9l"
   },
   "source": [
    "#### Ejercicio 3 \n",
    "Este ejercicio trata sobre lograr el intercambio de valores entre dos variables utilizando una variable temporal para hacerlo. Las variables temporales y la sustitución de valores termina siendo útil en algunos loops. Los pasos a seguir son: (a) definir variables A y B (cuyos valores buscaremos invertir); (b) definir una variable temporal que resguarde el valor de B; (c) sustitución (asignar B igual a A y también A igual al valor original de B); (d) imprimir valores para verificar."
   ]
  },
  {
   "cell_type": "code",
   "execution_count": 12,
   "metadata": {
    "id": "uWalSYFC-c9m"
   },
   "outputs": [
    {
     "name": "stdout",
     "output_type": "stream",
     "text": [
      "2\n",
      "1\n"
     ]
    }
   ],
   "source": [
    "# a) Definir variables A y B, \n",
    "a = 1\n",
    "b = 2\n",
    "\n",
    "# b) Definir variable temporal \"tmp\" igual a B (la variable, no el valor)\n",
    "tmp = b #la variable tmp guarda el valor de B\n",
    "\n",
    "# c) Ahora sustituir variables: variable B igual a variable A (la variable, no el\n",
    "# valor) y viceversa.\n",
    "\n",
    "b = a #el valor de B es el de A\n",
    "a = tmp #el valor de a es igual a el de la variable temporal que guarda el valor de B\n",
    "\n",
    "# d) Verifiquemos resultados: imprimir variables A y B\n",
    "print(a)\n",
    "print(b)"
   ]
  },
  {
   "cell_type": "markdown",
   "metadata": {
    "id": "wXhAaRyN-c9p"
   },
   "source": [
    "#### Ejercicio 4\n",
    "En este ejercicio se busca poner en práctica el uso de range() en un for loop. \n",
    "\n",
    "Construir un for loop usando un range(). El range debe ser entre los valores que quieran (con una diferencia mínima de 15 entre start y stop), en incrementos de 3 unidades. Dentro del loop, implementar una sentencia condicional que imprima una leyenda indicando si el input es par o impar."
   ]
  },
  {
   "cell_type": "code",
   "execution_count": 14,
   "metadata": {
    "id": "_oE5sG0c-c9q"
   },
   "outputs": [
    {
     "name": "stdout",
     "output_type": "stream",
     "text": [
      "10 es par\n",
      "13 es impar\n",
      "16 es par\n",
      "19 es impar\n",
      "22 es par\n",
      "25 es impar\n",
      "28 es par\n",
      "31 es impar\n"
     ]
    }
   ],
   "source": [
    "#Defino el rango de valores [10-33]:\n",
    "start = 10 \n",
    "stop = 33\n",
    "\n",
    "#genero el loop:\n",
    "for number in range(start, stop, 3):  #llamo number a los valores y le pido un loop a cada number que esta en el rango [10-33], en incremento de 3 unidades.\n",
    "    if number % 2 == 0: #si el number es par que me lo imprima diciendo que es par\n",
    "        print(number, \"es par\")\n",
    "    else:\n",
    "        print(number, \"es impar\") #si el number no es par que me lo imprima diciendo que es impar"
   ]
  },
  {
   "cell_type": "markdown",
   "metadata": {
    "id": "h3g5bXUB-c9u"
   },
   "source": [
    "#### Ejercicio 5\n",
    "Para practicar el uso de condiciones lógicas y la definición de funciones, construir una función con una sentencia condicional que verifique si un año es bisiesto o no. Para que un año sea bisiesto debe cumplir una de dos condiciones:\n",
    "\n",
    "(a) que sea divisible por 400; o\n",
    "\n",
    "(b) que sea divisible por 4 y no sea divisible por 100\n",
    "\n",
    "Notar que son dos condiciones, donde la segunda condición tiene dos componentes. Prueben la función con 3 valores para verificar que funcione."
   ]
  },
  {
   "cell_type": "code",
   "execution_count": 12,
   "metadata": {
    "id": "7_MnILdz-c9v"
   },
   "outputs": [
    {
     "name": "stdout",
     "output_type": "stream",
     "text": [
      "Año 2024 bisiesto:True\n",
      "Año 2021 bisiesto:False\n",
      "Año 2020 bisiesto:True\n"
     ]
    }
   ],
   "source": [
    "def bisiesto(year): #llamo a la función bisiesto\n",
    "    if year % 400 ==0: #la condiciono para que verifique si el año(year) es divisible por 400. Si lo es, salta True\n",
    "        return True\n",
    "    elif year % 4 == 0 and year % 100 != 0: #y la condiciono también para que verifique si el año(year) es divisible por 4 y no por 100. Si lo es, salta True\n",
    "        return True\n",
    "    else:\n",
    "        return False #si el año no es bisiesto salta False. \n",
    "\n",
    "#probamos la función con 3 años: \n",
    "year1 = 2024\n",
    "year2 = 2021\n",
    "year3 = 2020\n",
    "print(f\"Año 2024 bisiesto:{bisiesto(year1)}\")\n",
    "print(f\"Año 2021 bisiesto:{bisiesto(year2)}\")\n",
    "print(f\"Año 2020 bisiesto:{bisiesto(year3)}\")\n"
   ]
  },
  {
   "cell_type": "markdown",
   "metadata": {
    "collapsed": true,
    "id": "P3a7bJkd-c9w",
    "jupyter": {
     "outputs_hidden": true
    }
   },
   "source": [
    "#### Ejercicio 6 \n",
    "Pongamos en práctica identificar el type() de cada variable. A continuación tenemos una lista con elementos de diferentes tipos. Construyan un for loop que itere sobre la lista e imprima un cartel indicando el tipo de dato u objeto que hay en cada caso."
   ]
  },
  {
   "cell_type": "code",
   "execution_count": 10,
   "metadata": {
    "id": "SAJgEiNEFQAS"
   },
   "outputs": [
    {
     "name": "stdout",
     "output_type": "stream",
     "text": [
      "El elemento 10 es de tipo <class 'int'>\n",
      "El elemento 34.5 es de tipo <class 'float'>\n",
      "El elemento 99999 es de tipo <class 'int'>\n",
      "El elemento abc es de tipo <class 'str'>\n",
      "El elemento [1, 2, 3] es de tipo <class 'list'>\n",
      "El elemento ('ARG', 1810) es de tipo <class 'tuple'>\n",
      "El elemento {'pob': 45} es de tipo <class 'dict'>\n",
      "El elemento True es de tipo <class 'bool'>\n"
     ]
    }
   ],
   "source": [
    "mi_lista = [10, 34.5, 99999, 'abc', [1,2,3], ('ARG', 1810), {'pob': 45}, True]\n",
    "\n",
    "for element in mi_lista: #Llamamos 'element' a cada elemento de la lista 'mi_lista'. Hacemos un loop para que tome cada elemento\n",
    "    print(f\"El elemento {element} es de tipo {type(element)}\") #Imprime cada elemento con su tipo. \n",
    "    "
   ]
  },
  {
   "cell_type": "markdown",
   "metadata": {
    "id": "y1lncitl-c9x"
   },
   "source": [
    "#### Ejercicio 7\n",
    "Ahora definan ustedes una nueva lista, en la que los primeros cuatro elementos sean palabras (strings), el quinto elemento no sea string, y el sexto sea string. Construyan un for loop que corra por la lista y que imprima la palabra y la longitud de la misma. Que el loop contenga una sentencia condicional que imprima un cartel \"Elemento no es un string: < el elemento > | < class del elemento >\" para los casos dónde el elemento evaluado no sea string."
   ]
  },
  {
   "cell_type": "code",
   "execution_count": 8,
   "metadata": {
    "id": "bFOk9Os0-c9x"
   },
   "outputs": [
    {
     "name": "stdout",
     "output_type": "stream",
     "text": [
      "El elemento 'Messi' es una cadena de texto (string) de 5 caracteres\n",
      "El elemento 'Maradona' es una cadena de texto (string) de 8 caracteres\n",
      "El elemento 'Kempes' es una cadena de texto (string) de 6 caracteres\n",
      "El elemento 'Riquelme' es una cadena de texto (string) de 8 caracteres\n",
      "El elemento no es un string: < 10 > | < <class 'int'> >\n",
      "El elemento 'Aimar' es una cadena de texto (string) de 5 caracteres\n"
     ]
    }
   ],
   "source": [
    "nueva_lista = ['Messi', 'Maradona', 'Kempes', 'Riquelme', 10, 'Aimar']\n",
    "\n",
    "for element in nueva_lista:\n",
    "    if type(element) == str:\n",
    "        print(f\"El elemento '{element}' es una cadena de texto (string) de {len(element)} caracteres\")\n",
    "    else:\n",
    "        print(f\"El elemento no es un string: < {element} > | < {type(element)} >\")\n"
   ]
  },
  {
   "cell_type": "markdown",
   "metadata": {
    "id": "PUpxDz72-c9x"
   },
   "source": [
    "#### Ejercicio 8\n",
    "Argentina tiene una representación legislativa proporcional en la cual la cantidad de diputados se debería ajustar según el tamaño de población de cada provincia. Otra característica de la representación legislativa del país es que hay una cantidad mínima de diputados por provincia (5). Esto genera un desbalance en la cantidad de ciudadanos por cada representante en el Congreso entre provincias.\n",
    "\n",
    "A continuación preparamos algunos ejemplos, dividiendo la población de cada provincia (según estimación para el 2022) por la cantidad de representantes en el Congreso para esa misma jurisdicción. También armamos el equivalente para el total país y una lista con los valores provinciales.\n",
    "\n",
    "En este ejercicio les pedimos que construyan un for loop que itere sobre el diccionario definido y compare cada valor provincial contra el valor de proporcionalidad directa (la variable argentina). El loop debe imprimir una leyenda que indique si la provincia está sobrerepresentada, subrepresentada o con representación proporcional. Además, queremos que el mismo loop compare los valores de las provincias sobrerepresentadas y que guarde el valor de la provincia con mayor sobrerepresentación. Luego del loop impriman este valor así podemos ver que haya funcionado.\n",
    "\n",
    "Fuente para población: https://es.wikipedia.org/wiki/Demograf%C3%ADa_de_Argentina\n",
    "\n",
    "Fuente para representantes: https://es.wikipedia.org/wiki/C%C3%A1mara_de_Diputados_de_la_Naci%C3%B3n_Argentina"
   ]
  },
  {
   "cell_type": "code",
   "execution_count": 2,
   "metadata": {
    "id": "fsEHnxiY-c9y",
    "scrolled": true
   },
   "outputs": [
    {
     "name": "stdout",
     "output_type": "stream",
     "text": [
      "Córdoba está subrepresentada.\n",
      "Santa Fe está subrepresentada.\n",
      "Mendoza está subrepresentada.\n",
      "Buenos Aires está subrepresentada.\n",
      "Entre Ríos está sobrerepresentada.\n",
      "Santa Cruz está sobrerepresentada.\n",
      "Formosa está sobrerepresentada.\n",
      "\n",
      "La provincia con mayor sobrerrepresentación es Santa Cruz con un valor de 66694.60 ciudadanos por diputado.\n"
     ]
    }
   ],
   "source": [
    "# Valor de referencia: proporcionalidad\n",
    "argentina = 46044703 / 257\n",
    "\n",
    "# Creamos variables para una selección de jurisdicciones\n",
    "cordoba = 3978984 / 18\n",
    "santa_fe = 3556522 / 19\n",
    "mendoza = 2014533 / 10\n",
    "buenos_aires = 17569053 / 70\n",
    "entre_rios =  1426426 / 9\n",
    "santa_cruz = 333473 / 5\n",
    "formosa = 606041 / 5\n",
    "\n",
    "# Definimos el diccionario para iterar\n",
    "dict_provincias = {\n",
    "    \"Córdoba\": cordoba,\n",
    "    \"Santa Fe\": santa_fe,\n",
    "    \"Mendoza\": mendoza,\n",
    "    \"Buenos Aires\": buenos_aires,\n",
    "    \"Entre Ríos\": entre_rios,\n",
    "    \"Santa Cruz\": santa_cruz,\n",
    "    \"Formosa\": formosa\n",
    "}\n",
    "\n",
    "# Creamos una función (donde los parámetros son el diccionario y el valor de referencia) con un loop dentro.\n",
    "def representacion(dict_provincias, argentina): \n",
    "    max_sobrerepresentacion = float('inf')  # Usamos 'inf' para iniciar con un valor muy alto de valor de proporcionalidad y encontrar el menor.\n",
    "    provincia_max_sobrerepresentacion = \"\"  # Para almacenar el nombre de la provincia con mayor valor hasta el momento.\n",
    "\n",
    "    # Para cada valor de cada provincia del diccionario chequeamos las condiciones comparando con 'argentina' e imprimimos el resultado sobre la representación.    \n",
    "    for provincia, val in dict_provincias.items():  # Loop para evaluar la representación de cada provincia\n",
    "        if val < argentina:\n",
    "            print(f\"{provincia} está sobrerepresentada.\")\n",
    "            # Si está más sobrerrepresentada que la provincia guardada hasta el momento, actualizamos con la provincia más sobrerepresentada y su valor.\n",
    "            if val < max_sobrerepresentacion:\n",
    "                max_sobrerepresentacion = val\n",
    "                provincia_max_sobrerepresentacion = provincia # Reemplazamos los valores guardados.\n",
    "        elif val > argentina:\n",
    "            print(f\"{provincia} está subrepresentada.\")\n",
    "        else:\n",
    "            print(f\"{provincia} tiene representación proporcional.\")\n",
    "    \n",
    "    # Después de completar el loop, imprimimos la provincia con mayor sobrerrepresentación y su valor.\n",
    "    print(f\"\\nLa provincia con mayor sobrerrepresentación es {provincia_max_sobrerepresentacion} con un valor de {max_sobrerepresentacion:.2f} ciudadanos por diputado.\")\n",
    "\n",
    "# Llamamos a la función y vemos el resultado\n",
    "representacion(dict_provincias, argentina)"
   ]
  },
  {
   "cell_type": "markdown",
   "metadata": {
    "id": "GokZe5tV-c9z"
   },
   "source": [
    "#### Ejercicio 9\n",
    "Si buscáramos minimizar la subrepresentación de la provincia de Buenos Aires, ¿cuántos representantes debería tener según el Censo 2022? Usemos el mismo criterio de sub/sobrerepresentacion que en el ejercicio anterior: población sobre cantidad de representantes.\n",
    "\n",
    "Para responder esta pregunta construyan un while loop que incremente de a uno la cantidad de representantes de la Provincia hasta minimizar la subrepresentación. En cada iteración impriman un cartel que diga: \"Se agregó un representante, el total ahora es X\" dónde X es el número de representantes simulado."
   ]
  },
  {
   "cell_type": "code",
   "execution_count": 6,
   "metadata": {},
   "outputs": [
    {
     "name": "stdout",
     "output_type": "stream",
     "text": [
      "Se agregó un representante, el total ahora es 71\n",
      "Se agregó un representante, el total ahora es 72\n",
      "Se agregó un representante, el total ahora es 73\n",
      "Se agregó un representante, el total ahora es 74\n",
      "Se agregó un representante, el total ahora es 75\n",
      "Se agregó un representante, el total ahora es 76\n",
      "Se agregó un representante, el total ahora es 77\n",
      "Se agregó un representante, el total ahora es 78\n",
      "Se agregó un representante, el total ahora es 79\n",
      "Se agregó un representante, el total ahora es 80\n",
      "Se agregó un representante, el total ahora es 81\n",
      "Se agregó un representante, el total ahora es 82\n",
      "Se agregó un representante, el total ahora es 83\n",
      "Se agregó un representante, el total ahora es 84\n",
      "Se agregó un representante, el total ahora es 85\n",
      "Se agregó un representante, el total ahora es 86\n",
      "Se agregó un representante, el total ahora es 87\n",
      "Se agregó un representante, el total ahora es 88\n",
      "Se agregó un representante, el total ahora es 89\n",
      "Se agregó un representante, el total ahora es 90\n",
      "Se agregó un representante, el total ahora es 91\n",
      "Se agregó un representante, el total ahora es 92\n",
      "Se agregó un representante, el total ahora es 93\n",
      "Se agregó un representante, el total ahora es 94\n",
      "Se agregó un representante, el total ahora es 95\n",
      "Se agregó un representante, el total ahora es 96\n",
      "Se agregó un representante, el total ahora es 97\n",
      "Se agregó un representante, el total ahora es 98\n",
      "Se agregó un representante, el total ahora es 99\n",
      "El total final de representantes para Buenos Aires es 99. Con esta cantidad de representantes, la Provincia de Buenos Aires ya no se encontraría subrepresentada.\n"
     ]
    }
   ],
   "source": [
    "# Estos son los valores de la provincia\n",
    "representantes_pba = 70\n",
    "poblacion2022_pba = 17594428\n",
    "\n",
    "# Y el valor de referencia nacional\n",
    "argentina = 46044703 / 257\n",
    "\n",
    "# Proporcionalidad de Buenos Aires\n",
    "pba_proporcionalidad = poblacion2022_pba / representantes_pba\n",
    "\n",
    "# While loop para ajustar los representantes hasta que Buenos Aires no esté subrepresentada\n",
    "while pba_proporcionalidad > argentina:\n",
    "    representantes_pba += 1\n",
    "    pba_proporcionalidad = poblacion2022_pba / representantes_pba\n",
    "    print(f\"Se agregó un representante, el total ahora es {representantes_pba}\")\n",
    "\n",
    "print(f\"El total final de representantes para Buenos Aires es {representantes_pba}. \\\n",
    "Con esta cantidad de representantes, la Provincia de Buenos Aires ya no se encontraría subrepresentada.\")"
   ]
  },
  {
   "cell_type": "markdown",
   "metadata": {},
   "source": [
    "#### Ejercicio 10"
   ]
  },
  {
   "cell_type": "markdown",
   "metadata": {},
   "source": [
    "Construyan una función llamada 'suma' que tome una cantidad variable de parámetros y devuelva el resultado de la suma. Ayuda: miren los ejercicios que hay al final de la clase 1."
   ]
  },
  {
   "cell_type": "code",
   "execution_count": 4,
   "metadata": {},
   "outputs": [
    {
     "name": "stdout",
     "output_type": "stream",
     "text": [
      "La suma de los valores es: 15\n",
      "La suma de los valores es: 21\n"
     ]
    }
   ],
   "source": [
    "# Función para sumar una cantidad variable de parámetros\n",
    "def suma(*args):\n",
    "    return sum(args)\n",
    "\n",
    "# Ejemplo de uso\n",
    "resultado = suma(1, 2, 3, 4, 5)\n",
    "print(f\"La suma de los valores es: {resultado}\")\n",
    "resultado = suma(1, 2, 3, 4, 5,6)\n",
    "print(f\"La suma de los valores es: {resultado}\")"
   ]
  }
 ],
 "metadata": {
  "anaconda-cloud": {},
  "colab": {
   "name": "TP1 - Parte 1.ipynb",
   "provenance": []
  },
  "kernelspec": {
   "display_name": "Python 3 (ipykernel)",
   "language": "python",
   "name": "python3"
  },
  "language_info": {
   "codemirror_mode": {
    "name": "ipython",
    "version": 3
   },
   "file_extension": ".py",
   "mimetype": "text/x-python",
   "name": "python",
   "nbconvert_exporter": "python",
   "pygments_lexer": "ipython3",
   "version": "3.12.4"
  }
 },
 "nbformat": 4,
 "nbformat_minor": 4
}
