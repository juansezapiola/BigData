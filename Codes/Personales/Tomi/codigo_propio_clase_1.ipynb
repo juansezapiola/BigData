{
 "cells": [
  {
   "cell_type": "markdown",
   "id": "96f8840f-c125-4231-9328-385b6c1b1fb6",
   "metadata": {},
   "source": [
    "# Tutorial 1 - ML para Economistas \n"
   ]
  },
  {
   "cell_type": "code",
   "execution_count": 8,
   "id": "3103e68d-3a38-4582-ad9e-e875f36c9bc6",
   "metadata": {},
   "outputs": [
    {
     "data": {
      "text/plain": [
       "int"
      ]
     },
     "execution_count": 8,
     "metadata": {},
     "output_type": "execute_result"
    }
   ],
   "source": [
    "# Algunos objetos\n",
    "\n",
    "# Enteroros (integers) \n",
    "8\n",
    "type(8)"
   ]
  },
  {
   "cell_type": "code",
   "execution_count": 12,
   "id": "885a0ab6-e8de-488b-9459-b89164660156",
   "metadata": {},
   "outputs": [
    {
     "name": "stdout",
     "output_type": "stream",
     "text": [
      "4.52\n"
     ]
    },
    {
     "data": {
      "text/plain": [
       "float"
      ]
     },
     "execution_count": 12,
     "metadata": {},
     "output_type": "execute_result"
    }
   ],
   "source": [
    "# Decimales\n",
    "print(4.52) \n",
    "type(4.52)"
   ]
  },
  {
   "cell_type": "code",
   "execution_count": 14,
   "id": "b0be0642-d79b-4343-a9e9-3d8ac5feaa3d",
   "metadata": {},
   "outputs": [
    {
     "name": "stdout",
     "output_type": "stream",
     "text": [
      "3.0\n"
     ]
    }
   ],
   "source": [
    "print(float(3))"
   ]
  },
  {
   "cell_type": "code",
   "execution_count": 20,
   "id": "71810fef-54c2-4142-a20f-1d9707cb655a",
   "metadata": {},
   "outputs": [
    {
     "name": "stdout",
     "output_type": "stream",
     "text": [
      "5\n"
     ]
    }
   ],
   "source": [
    "myint = 5\n",
    "myfloat =(myint)\n",
    "print(myfloat)"
   ]
  },
  {
   "cell_type": "code",
   "execution_count": 22,
   "id": "3f3868d2-93b9-4ef2-beb8-4fdca8a2d002",
   "metadata": {},
   "outputs": [
    {
     "name": "stdout",
     "output_type": "stream",
     "text": [
      "7\n"
     ]
    }
   ],
   "source": [
    "myint = int(7.4) # Esto es para guardar en número entero. Puede redondear o truncar. En este caso trunca\n",
    "print(myint)"
   ]
  },
  {
   "cell_type": "code",
   "execution_count": 34,
   "id": "795f0a1c-d0c6-424e-863e-d706233f36c1",
   "metadata": {},
   "outputs": [
    {
     "name": "stdout",
     "output_type": "stream",
     "text": [
      "A\n",
      "B\n",
      "10\n",
      "Hola como andan\n"
     ]
    }
   ],
   "source": [
    "# Ahora vamos a ver cómo guarda texto\n",
    "# ' ' o \"\"  --> todo lo que esté guardado así lo considera como texto.\n",
    "print(\"A\")\n",
    "print('B')\n",
    "print('10')\n",
    "type('10')\n",
    "print('Hola como andan')"
   ]
  },
  {
   "cell_type": "code",
   "execution_count": 38,
   "id": "ebc17181-665e-4c71-b17f-ab3b8ce93e88",
   "metadata": {},
   "outputs": [
    {
     "data": {
      "text/plain": [
       "True"
      ]
     },
     "execution_count": 38,
     "metadata": {},
     "output_type": "execute_result"
    }
   ],
   "source": [
    "# Booleanos (True or False) \n",
    "\n",
    "'texto' == 'texto'"
   ]
  },
  {
   "cell_type": "code",
   "execution_count": 36,
   "id": "3eb29895-1fab-4daa-8c58-dccf1d0868e6",
   "metadata": {},
   "outputs": [
    {
     "data": {
      "text/plain": [
       "False"
      ]
     },
     "execution_count": 36,
     "metadata": {},
     "output_type": "execute_result"
    }
   ],
   "source": [
    "'a' == 'b' "
   ]
  },
  {
   "cell_type": "code",
   "execution_count": 40,
   "id": "703a03e3-c509-42d0-b5e2-5febbfcc5fc8",
   "metadata": {},
   "outputs": [
    {
     "data": {
      "text/plain": [
       "False"
      ]
     },
     "execution_count": 40,
     "metadata": {},
     "output_type": "execute_result"
    }
   ],
   "source": [
    "'texto' != 'texto'"
   ]
  },
  {
   "cell_type": "code",
   "execution_count": 42,
   "id": "5b192d3d-d9ca-4966-b6ff-528f35eb2a34",
   "metadata": {},
   "outputs": [
    {
     "data": {
      "text/plain": [
       "False"
      ]
     },
     "execution_count": 42,
     "metadata": {},
     "output_type": "execute_result"
    }
   ],
   "source": [
    "4 > 9"
   ]
  },
  {
   "cell_type": "code",
   "execution_count": 44,
   "id": "f4f42ba6-95f1-48ab-99ed-661c3b937644",
   "metadata": {},
   "outputs": [
    {
     "data": {
      "text/plain": [
       "True"
      ]
     },
     "execution_count": 44,
     "metadata": {},
     "output_type": "execute_result"
    }
   ],
   "source": [
    "# Algunas preguntas\n",
    "\n",
    "17 == 17.0"
   ]
  },
  {
   "cell_type": "code",
   "execution_count": 48,
   "id": "50acab66-6954-4254-8d64-08a6921fb93f",
   "metadata": {},
   "outputs": [
    {
     "data": {
      "text/plain": [
       "False"
      ]
     },
     "execution_count": 48,
     "metadata": {},
     "output_type": "execute_result"
    }
   ],
   "source": [
    "540 == '540'"
   ]
  },
  {
   "cell_type": "code",
   "execution_count": 46,
   "id": "7c8dc657-ffb6-4c9d-a72d-30d8d1723551",
   "metadata": {},
   "outputs": [
    {
     "data": {
      "text/plain": [
       "True"
      ]
     },
     "execution_count": 46,
     "metadata": {},
     "output_type": "execute_result"
    }
   ],
   "source": [
    "540 == int('540')"
   ]
  },
  {
   "cell_type": "code",
   "execution_count": 52,
   "id": "93430405-a886-4edd-ad85-b724151e57b1",
   "metadata": {},
   "outputs": [
    {
     "data": {
      "text/plain": [
       "True"
      ]
     },
     "execution_count": 52,
     "metadata": {},
     "output_type": "execute_result"
    }
   ],
   "source": [
    "'UdeSA' == \"UdeSA\" "
   ]
  },
  {
   "cell_type": "code",
   "execution_count": 54,
   "id": "d1f7bf99-9458-4637-bd0c-df61d08dacb7",
   "metadata": {},
   "outputs": [
    {
     "name": "stdout",
     "output_type": "stream",
     "text": [
      "Su amigo le dijo \"está todo bien\"\n"
     ]
    }
   ],
   "source": [
    "# Las comillas grandes (simples) me sirven como un corchete y adentro usar las comillas individuales (grandes) como paréntesis\n",
    "print('Su amigo le dijo \"está todo bien\"')"
   ]
  },
  {
   "cell_type": "code",
   "execution_count": 56,
   "id": "bcddaa26-53d4-48b9-9f87-e58170d2ac86",
   "metadata": {},
   "outputs": [
    {
     "data": {
      "text/plain": [
       "False"
      ]
     },
     "execution_count": 56,
     "metadata": {},
     "output_type": "execute_result"
    }
   ],
   "source": [
    "\"UdeSA\" == \"UDESA\""
   ]
  },
  {
   "cell_type": "code",
   "execution_count": null,
   "id": "c78d88a6-2dfa-4548-8b1a-c9ed84c2134d",
   "metadata": {},
   "outputs": [],
   "source": [
    "# Acá se puede poner bullets, poner imágenes"
   ]
  },
  {
   "cell_type": "markdown",
   "id": "5658a0ba-2261-4a96-aa30-8823dd74a4a2",
   "metadata": {},
   "source": [
    "# Operaciones matemáticas básicas"
   ]
  },
  {
   "cell_type": "code",
   "execution_count": 60,
   "id": "103e3dc1-6384-4603-9657-48440be41dae",
   "metadata": {},
   "outputs": [
    {
     "name": "stdout",
     "output_type": "stream",
     "text": [
      "201\n",
      "199\n"
     ]
    }
   ],
   "source": [
    "print(200+1)\n",
    "print(200-1)"
   ]
  },
  {
   "cell_type": "code",
   "execution_count": 62,
   "id": "ba4a1fdc-e673-4a39-aa41-6675789a837c",
   "metadata": {},
   "outputs": [
    {
     "name": "stdout",
     "output_type": "stream",
     "text": [
      "2.0\n",
      "800\n"
     ]
    }
   ],
   "source": [
    "print(40/20)\n",
    "print(40*20)"
   ]
  },
  {
   "cell_type": "code",
   "execution_count": 64,
   "id": "6321055e-6d0d-40d1-b871-e2ff3dc047a2",
   "metadata": {},
   "outputs": [
    {
     "name": "stdout",
     "output_type": "stream",
     "text": [
      "Suma: 52\n"
     ]
    }
   ],
   "source": [
    "suma = 20 + 32\n",
    "print(\"Suma:\", suma)"
   ]
  },
  {
   "cell_type": "code",
   "execution_count": 68,
   "id": "50c2fc92-f8f6-4589-851d-170ffb9c4f42",
   "metadata": {},
   "outputs": [
    {
     "name": "stdout",
     "output_type": "stream",
     "text": [
      "52\n"
     ]
    }
   ],
   "source": [
    "print(suma)"
   ]
  },
  {
   "cell_type": "code",
   "execution_count": 72,
   "id": "dd8ebbdc-8d2d-432e-aafc-e2a16c448788",
   "metadata": {},
   "outputs": [
    {
     "name": "stdout",
     "output_type": "stream",
     "text": [
      "82\n"
     ]
    }
   ],
   "source": [
    "suma = suma + 10"
   ]
  },
  {
   "cell_type": "code",
   "execution_count": 76,
   "id": "ffe8a473-6e41-49a8-a991-84d25c7c6b06",
   "metadata": {},
   "outputs": [
    {
     "name": "stdout",
     "output_type": "stream",
     "text": [
      "82\n"
     ]
    }
   ],
   "source": [
    "print(suma+10)"
   ]
  },
  {
   "cell_type": "code",
   "execution_count": 80,
   "id": "149c266a-61a1-4b7d-aa83-a557b8da1e74",
   "metadata": {},
   "outputs": [],
   "source": [
    "suma -= 10"
   ]
  },
  {
   "cell_type": "code",
   "execution_count": 82,
   "id": "338129ba-acbc-4a4d-8e8f-a9e5baa6d382",
   "metadata": {},
   "outputs": [
    {
     "name": "stdout",
     "output_type": "stream",
     "text": [
      "52\n"
     ]
    }
   ],
   "source": [
    "print(suma)"
   ]
  },
  {
   "cell_type": "code",
   "execution_count": 84,
   "id": "17edc601-dcba-4e24-b0d5-36f2f21212ec",
   "metadata": {},
   "outputs": [
    {
     "data": {
      "text/plain": [
       "16"
      ]
     },
     "execution_count": 84,
     "metadata": {},
     "output_type": "execute_result"
    }
   ],
   "source": [
    "# Potencia \n",
    "2**4"
   ]
  },
  {
   "cell_type": "code",
   "execution_count": 90,
   "id": "40bd877b-29d3-4b2f-873f-a1fa3600dfc8",
   "metadata": {},
   "outputs": [
    {
     "name": "stdout",
     "output_type": "stream",
     "text": [
      "3\n"
     ]
    }
   ],
   "source": [
    "# a = dividendo, b = divisor, c = cociente, d = resto\n",
    "\n",
    "# Cociente\n",
    "print(16//5)"
   ]
  },
  {
   "cell_type": "code",
   "execution_count": 92,
   "id": "eca8a4d8-522e-435a-9ff0-3d97d1e62b82",
   "metadata": {},
   "outputs": [
    {
     "name": "stdout",
     "output_type": "stream",
     "text": [
      "1\n"
     ]
    }
   ],
   "source": [
    "# Esto me da el resto de la división. Me sirve para chequear si un número es divisible por otro, si es =  0 => es divisible\n",
    "print(16%5)"
   ]
  },
  {
   "cell_type": "markdown",
   "id": "af315601-6969-4147-a937-eb98ecc4589e",
   "metadata": {},
   "source": [
    "# Operaciones con strings"
   ]
  },
  {
   "cell_type": "code",
   "execution_count": 95,
   "id": "4830f4dc-0dc3-4237-9bab-cac8c9377f57",
   "metadata": {},
   "outputs": [
    {
     "data": {
      "text/plain": [
       "'Esto esdos strings'"
      ]
     },
     "execution_count": 95,
     "metadata": {},
     "output_type": "execute_result"
    }
   ],
   "source": [
    "# Concatenar\n",
    "\n",
    "\"Esto es\" + \"dos strings\" "
   ]
  },
  {
   "cell_type": "code",
   "execution_count": 97,
   "id": "385b895d-49e3-4b7d-a252-1f27a18ff334",
   "metadata": {},
   "outputs": [
    {
     "data": {
      "text/plain": [
       "'aabbcc'"
      ]
     },
     "execution_count": 97,
     "metadata": {},
     "output_type": "execute_result"
    }
   ],
   "source": [
    "\"aa\" + \"bb\" + \"cc\""
   ]
  },
  {
   "cell_type": "code",
   "execution_count": 99,
   "id": "c481c993-2fdc-4220-b846-d31294900061",
   "metadata": {},
   "outputs": [
    {
     "data": {
      "text/plain": [
       "'UdeSAUdeSAUdeSAUdeSAUdeSA'"
      ]
     },
     "execution_count": 99,
     "metadata": {},
     "output_type": "execute_result"
    }
   ],
   "source": [
    "\"UdeSA\"*5"
   ]
  },
  {
   "cell_type": "markdown",
   "id": "8d1c35ca-2364-4897-afdb-4d5b044661a7",
   "metadata": {},
   "source": [
    "## Operadores Lógicos"
   ]
  },
  {
   "cell_type": "code",
   "execution_count": 102,
   "id": "17105ff2-392a-43d2-8999-c63892d44002",
   "metadata": {},
   "outputs": [
    {
     "data": {
      "text/plain": [
       "True"
      ]
     },
     "execution_count": 102,
     "metadata": {},
     "output_type": "execute_result"
    }
   ],
   "source": [
    "4 < 7 and 4 > 1"
   ]
  },
  {
   "cell_type": "code",
   "execution_count": 104,
   "id": "bcd4bd85-5df9-45ff-9910-3f5b8e4e888c",
   "metadata": {},
   "outputs": [
    {
     "data": {
      "text/plain": [
       "True"
      ]
     },
     "execution_count": 104,
     "metadata": {},
     "output_type": "execute_result"
    }
   ],
   "source": [
    "4 == 1 or 4 > 1"
   ]
  },
  {
   "cell_type": "code",
   "execution_count": 106,
   "id": "959bf587-40eb-449e-a27e-4002fc900bb1",
   "metadata": {},
   "outputs": [
    {
     "data": {
      "text/plain": [
       "False"
      ]
     },
     "execution_count": 106,
     "metadata": {},
     "output_type": "execute_result"
    }
   ],
   "source": [
    "4 == 1 or 4 > 9"
   ]
  },
  {
   "cell_type": "code",
   "execution_count": 108,
   "id": "b113ab89-fe0d-4f5c-bacc-42dda7749365",
   "metadata": {},
   "outputs": [
    {
     "data": {
      "text/plain": [
       "True"
      ]
     },
     "execution_count": 108,
     "metadata": {},
     "output_type": "execute_result"
    }
   ],
   "source": [
    "not (4 == 1)"
   ]
  },
  {
   "cell_type": "markdown",
   "id": "f6781ec0-1a32-436a-b8d7-655856266a93",
   "metadata": {},
   "source": [
    "## Definición de variables"
   ]
  },
  {
   "cell_type": "code",
   "execution_count": 113,
   "id": "761a1ab6-d3d2-465a-92db-909ee0986d0a",
   "metadata": {},
   "outputs": [
    {
     "name": "stdout",
     "output_type": "stream",
     "text": [
      "a\n"
     ]
    }
   ],
   "source": [
    "mi_variable = \"a\"\n",
    "print(mi_variable)"
   ]
  },
  {
   "cell_type": "code",
   "execution_count": 115,
   "id": "16d9b27a-773f-49c2-86e0-37ee84bb1a52",
   "metadata": {},
   "outputs": [
    {
     "name": "stdout",
     "output_type": "stream",
     "text": [
      "300\n"
     ]
    }
   ],
   "source": [
    "a = 100\n",
    "b = 200\n",
    "print(a + b)"
   ]
  },
  {
   "cell_type": "code",
   "execution_count": 132,
   "id": "1178f660-5ca1-4c78-b543-61176135bd5d",
   "metadata": {},
   "outputs": [
    {
     "ename": "SyntaxError",
     "evalue": "cannot assign to True (3296010650.py, line 1)",
     "output_type": "error",
     "traceback": [
      "\u001b[0;36m  Cell \u001b[0;32mIn[132], line 1\u001b[0;36m\u001b[0m\n\u001b[0;31m    True = 1 # Se pone en verde porque son palabras \"protegidas\" que no me sirven para dar nombres\u001b[0m\n\u001b[0m    ^\u001b[0m\n\u001b[0;31mSyntaxError\u001b[0m\u001b[0;31m:\u001b[0m cannot assign to True\n"
     ]
    }
   ],
   "source": [
    "True = 1 # Se pone en verde porque son palabras \"protegidas\" que no me sirven para dar nombres"
   ]
  },
  {
   "cell_type": "code",
   "execution_count": null,
   "id": "c4d83954-ff66-49b0-a0e5-e6f855dc145f",
   "metadata": {},
   "outputs": [],
   "source": [
    "# Puedo usar guión medio y guión bajo para las variables. No puedo usar números. Consejos: no usar ñ, ni tidles, ni diéresis"
   ]
  },
  {
   "cell_type": "code",
   "execution_count": 125,
   "id": "2483b53d-470f-4a98-aebd-8d543b9f7a4e",
   "metadata": {},
   "outputs": [
    {
     "name": "stdout",
     "output_type": "stream",
     "text": [
      "\n",
      "Here is a list of the Python keywords.  Enter any keyword to get more help.\n",
      "\n",
      "False               class               from                or\n",
      "None                continue            global              pass\n",
      "True                def                 if                  raise\n",
      "and                 del                 import              return\n",
      "as                  elif                in                  try\n",
      "assert              else                is                  while\n",
      "async               except              lambda              with\n",
      "await               finally             nonlocal            yield\n",
      "break               for                 not                 \n",
      "\n"
     ]
    }
   ],
   "source": [
    "help(\"keywords\") # Estas son las \"palabras protegidas\""
   ]
  },
  {
   "cell_type": "code",
   "execution_count": 127,
   "id": "1c5320b3-7023-4152-bd4a-8c9faf500431",
   "metadata": {},
   "outputs": [],
   "source": [
    "_mi_variable = \"20\""
   ]
  },
  {
   "cell_type": "markdown",
   "id": "d8a874bf-1e7b-4a65-8fe9-ffec939b5518",
   "metadata": {},
   "source": [
    "##  Colecciones: listas, tuplas, sets y diccionarios\n",
    "### Son distintas formas que tiene de Python guardar cosas en su memoria"
   ]
  },
  {
   "cell_type": "markdown",
   "id": "7221ce33-4172-45d4-8606-176961bf1ce1",
   "metadata": {},
   "source": [
    "#### Estas colecciones pueden tener:\n",
    "#### - Orden / no order\n",
    "#### - Valores repetidos / valores únicos\n",
    "#### - Mutables / inmutables"
   ]
  },
  {
   "cell_type": "markdown",
   "id": "f50ff450-589e-410b-b6e2-ddd62a96c714",
   "metadata": {},
   "source": [
    "### Listas\n",
    "#### Es una secuencia: ordenada, mutable, admite valores repetidos y admite distintos tipos de elementos"
   ]
  },
  {
   "cell_type": "code",
   "execution_count": 142,
   "id": "9c19be1b-8f0c-454e-a139-fa90c4fcb5c3",
   "metadata": {},
   "outputs": [],
   "source": [
    "paises = ['ARG', 'BOL', 'BRA', 'CHI', 'PRY', 'URY']\n",
    "pob_millones = [46,12,214,19,13,3.5]"
   ]
  },
  {
   "cell_type": "code",
   "execution_count": 150,
   "id": "fe4a25df-57c8-43b7-88ee-ed07ecd5839a",
   "metadata": {},
   "outputs": [
    {
     "name": "stdout",
     "output_type": "stream",
     "text": [
      "6\n"
     ]
    }
   ],
   "source": [
    "print(len(paises)) # Longitud de la lista"
   ]
  },
  {
   "cell_type": "code",
   "execution_count": 152,
   "id": "540163ae-a03c-4150-b269-05ae021b1933",
   "metadata": {},
   "outputs": [
    {
     "name": "stdout",
     "output_type": "stream",
     "text": [
      "6\n"
     ]
    }
   ],
   "source": [
    "print(len(pob_millones))"
   ]
  },
  {
   "cell_type": "markdown",
   "id": "c822ca64-b0ed-4575-a061-1c72e0d3b85f",
   "metadata": {},
   "source": [
    "#### Cómo enumera Python a las listas? \n",
    "#### paises = [0,1,2,...,n-1] => en la posición 0 está ARG"
   ]
  },
  {
   "cell_type": "code",
   "execution_count": 157,
   "id": "39db200b-abb8-41f6-a076-75304dee4210",
   "metadata": {},
   "outputs": [
    {
     "name": "stdout",
     "output_type": "stream",
     "text": [
      "BOL\n",
      "URY\n"
     ]
    }
   ],
   "source": [
    "print(paises[1])\n",
    "print(paises[-1]) # para el último de la lista"
   ]
  },
  {
   "cell_type": "code",
   "execution_count": 159,
   "id": "bc8e2819-e643-431c-98ba-5443b2585c92",
   "metadata": {},
   "outputs": [
    {
     "name": "stdout",
     "output_type": "stream",
     "text": [
      "El primer elemento de la lista es: ARG\n"
     ]
    }
   ],
   "source": [
    "print(\"El primer elemento de la lista es:\", paises[0])"
   ]
  },
  {
   "cell_type": "code",
   "execution_count": 163,
   "id": "80f43baa-07a2-4222-8f97-120d70622b87",
   "metadata": {},
   "outputs": [
    {
     "name": "stdout",
     "output_type": "stream",
     "text": [
      "ARG\n"
     ]
    }
   ],
   "source": [
    "argentina = paises[0]\n",
    "print(argentina)"
   ]
  },
  {
   "cell_type": "code",
   "execution_count": 165,
   "id": "01824faa-2e30-4731-b280-07e5b2d14600",
   "metadata": {},
   "outputs": [
    {
     "name": "stdout",
     "output_type": "stream",
     "text": [
      "['ARG', 'BOL']\n"
     ]
    }
   ],
   "source": [
    "print(paises[0:2]) # Acá quiero imprimir los primeros dos países porque el último número que pongo acá no me lo incluye"
   ]
  },
  {
   "cell_type": "code",
   "execution_count": 169,
   "id": "38d65996-dde6-40bf-a2ee-f314580015c1",
   "metadata": {},
   "outputs": [
    {
     "name": "stdout",
     "output_type": "stream",
     "text": [
      "['ARG', 'BOL', 'BRA', 'CHI', 'PRY', 'URY']\n"
     ]
    }
   ],
   "source": [
    "print(paises[:]) # toda la lista"
   ]
  },
  {
   "cell_type": "code",
   "execution_count": 171,
   "id": "47c4f9cb-7102-4c81-99fd-f40423a1b469",
   "metadata": {},
   "outputs": [
    {
     "name": "stdout",
     "output_type": "stream",
     "text": [
      "['ARG', 'BOL', 'BRA', 'CHI', 'PRY', 'URY']\n"
     ]
    }
   ],
   "source": [
    "print(paises[0:len(paises)])"
   ]
  },
  {
   "cell_type": "code",
   "execution_count": 173,
   "id": "b0ad63ba-7bef-44df-8e23-efad43e29ad3",
   "metadata": {},
   "outputs": [
    {
     "name": "stdout",
     "output_type": "stream",
     "text": [
      "['BRA', 'CHI']\n"
     ]
    }
   ],
   "source": [
    "print(paises[2:-2])"
   ]
  },
  {
   "cell_type": "code",
   "execution_count": 175,
   "id": "2b70d59c-994f-4ec6-87bf-2ef10db0c278",
   "metadata": {},
   "outputs": [
    {
     "name": "stdout",
     "output_type": "stream",
     "text": [
      "[46, 12, 214, 19, 13, 3.5]\n"
     ]
    }
   ],
   "source": [
    "print(pob_millones)"
   ]
  },
  {
   "cell_type": "code",
   "execution_count": 181,
   "id": "b806efb1-1032-4096-a121-aaba7c545dfc",
   "metadata": {},
   "outputs": [
    {
     "name": "stdout",
     "output_type": "stream",
     "text": [
      "[46, 12, 214, 19, 14, 3.5]\n"
     ]
    }
   ],
   "source": [
    "# Quiero cambiar el 13 de esta lista por 14\n",
    "\n",
    "pob_millones[-2] = 14 \n",
    "print(pob_millones)\n",
    "\n",
    "# Puedo hacer esto porque la lista es mutable"
   ]
  },
  {
   "cell_type": "code",
   "execution_count": 185,
   "id": "8166d5e4-53af-45cc-ab2f-d74ff23dd31f",
   "metadata": {},
   "outputs": [],
   "source": [
    "paises.append('PER') # Le digo que me agregue Perú a la lista"
   ]
  },
  {
   "cell_type": "code",
   "execution_count": 187,
   "id": "6584ca2f-ca66-4a4f-a6a1-e20d81693bac",
   "metadata": {},
   "outputs": [
    {
     "name": "stdout",
     "output_type": "stream",
     "text": [
      "['ARG', 'BOL', 'BRA', 'CHI', 'PRY', 'URY', 'PER', 'PER']\n"
     ]
    }
   ],
   "source": [
    "print(paises) "
   ]
  },
  {
   "cell_type": "code",
   "execution_count": 189,
   "id": "a0a9eacf-8ab2-4365-857f-d8ad51430b16",
   "metadata": {},
   "outputs": [],
   "source": [
    "# Vemos que la lista acepta valores repetidos. Note: se agregó dos veces porque toqué dos veces el paises.append"
   ]
  },
  {
   "cell_type": "code",
   "execution_count": 191,
   "id": "f41f7fbc-0899-4fc4-ab07-3eb80a3293ea",
   "metadata": {},
   "outputs": [
    {
     "name": "stdout",
     "output_type": "stream",
     "text": [
      "[46, 12, 214, 19, 14, 3.5]\n"
     ]
    }
   ],
   "source": [
    "print(pob_millones)"
   ]
  },
  {
   "cell_type": "code",
   "execution_count": 193,
   "id": "3c530979-39f2-4580-93d6-d720e7f90cce",
   "metadata": {},
   "outputs": [],
   "source": [
    "pob_millones.insert(6,11) # Con insert puedo elegir dónde meterlo, a diferencia de append que te lo manda al final"
   ]
  },
  {
   "cell_type": "code",
   "execution_count": 197,
   "id": "cc62f84b-4ca9-464b-8fe8-82595a4bb104",
   "metadata": {},
   "outputs": [
    {
     "name": "stdout",
     "output_type": "stream",
     "text": [
      "[46, 12, 214, 19, 14, 3.5, 11]\n"
     ]
    }
   ],
   "source": [
    "print(pob_millones)"
   ]
  },
  {
   "cell_type": "code",
   "execution_count": 201,
   "id": "f7602322-fdad-4048-8848-51324b5ba7fb",
   "metadata": {},
   "outputs": [],
   "source": [
    "paises2 = ['COL', 'ECU']\n",
    "\n",
    "paises.append(paises2)"
   ]
  },
  {
   "cell_type": "code",
   "execution_count": 203,
   "id": "a78c4e93-e914-4011-b8db-7e830e8d4575",
   "metadata": {},
   "outputs": [
    {
     "name": "stdout",
     "output_type": "stream",
     "text": [
      "['ARG', 'BOL', 'BRA', 'CHI', 'PRY', 'URY', 'PER', 'PER', ['COL', 'ECU']]\n"
     ]
    }
   ],
   "source": [
    "print(paises)"
   ]
  },
  {
   "cell_type": "code",
   "execution_count": 205,
   "id": "aae4c34c-69cf-4138-be7b-56eb31fd2533",
   "metadata": {},
   "outputs": [],
   "source": [
    "# Vemos que otra carac. de la lista es que puedo meter adentro otra lista u otro tipo de objetos"
   ]
  },
  {
   "cell_type": "code",
   "execution_count": 233,
   "id": "c1c1d651-f6b4-4c85-beb2-711b75fb764d",
   "metadata": {},
   "outputs": [
    {
     "data": {
      "text/plain": [
       "['COL', 'ECU']"
      ]
     },
     "execution_count": 233,
     "metadata": {},
     "output_type": "execute_result"
    }
   ],
   "source": [
    "paises.pop(-1) # Elimino elementos de la lista"
   ]
  },
  {
   "cell_type": "code",
   "execution_count": 235,
   "id": "95b992df-815e-4293-8ac3-abfe1ba5cea6",
   "metadata": {},
   "outputs": [
    {
     "name": "stdout",
     "output_type": "stream",
     "text": [
      "['ARG', 'BOL', 'BRA', 'CHI', 'PRY', 'URY', 'PER', 'PER', 'COL', 'ECU']\n"
     ]
    }
   ],
   "source": [
    "paises.extend(paises2) # Los agrego como elementos de la lista\n",
    "print(paises)"
   ]
  },
  {
   "cell_type": "code",
   "execution_count": 239,
   "id": "d3ddd03f-3533-4bbe-84bd-83c8bd74592f",
   "metadata": {},
   "outputs": [],
   "source": [
    "paises.remove(\"PER\") # QUE BORRE PER DE LA LISTA"
   ]
  },
  {
   "cell_type": "code",
   "execution_count": 241,
   "id": "b51da486-05ab-4b2d-9910-c3fa9e87b315",
   "metadata": {},
   "outputs": [
    {
     "name": "stdout",
     "output_type": "stream",
     "text": [
      "['ARG', 'BOL', 'BRA', 'CHI', 'PRY', 'URY', 'PER', 'COL', 'ECU']\n"
     ]
    }
   ],
   "source": [
    "print(paises)"
   ]
  },
  {
   "cell_type": "code",
   "execution_count": null,
   "id": "d85339ff-85fe-4c68-8bb2-bdd94f35bd1e",
   "metadata": {},
   "outputs": [],
   "source": [
    "# Me faltó una parte del código acá (PEDIR)"
   ]
  },
  {
   "cell_type": "code",
   "execution_count": null,
   "id": "908740cc-dae7-4a81-a39a-0faef33eaba7",
   "metadata": {},
   "outputs": [],
   "source": []
  },
  {
   "cell_type": "markdown",
   "id": "27c9f73c-3604-4e5e-a578-0d65c271b68c",
   "metadata": {},
   "source": [
    "### Tuplas\n",
    "\n",
    "#### Es una secuencia: ordenada, inmutable, admite valores repetidos, admite ddistintos tipos de elementos y se usan para manterener juntos varios elementos "
   ]
  },
  {
   "cell_type": "code",
   "execution_count": 244,
   "id": "01e0bebe-18be-454f-8df0-a004d7420b2f",
   "metadata": {},
   "outputs": [],
   "source": [
    "argentina = ('ARG', 44939)"
   ]
  },
  {
   "cell_type": "code",
   "execution_count": 246,
   "id": "a2c4bfd3-a658-41f9-b54d-f6925dcdaaab",
   "metadata": {},
   "outputs": [
    {
     "data": {
      "text/plain": [
       "2"
      ]
     },
     "execution_count": 246,
     "metadata": {},
     "output_type": "execute_result"
    }
   ],
   "source": [
    "len(argentina)"
   ]
  },
  {
   "cell_type": "code",
   "execution_count": 250,
   "id": "e9290b9e-c6dc-4643-a810-9f2bf75cf10c",
   "metadata": {},
   "outputs": [
    {
     "ename": "TypeError",
     "evalue": "'tuple' object does not support item assignment",
     "output_type": "error",
     "traceback": [
      "\u001b[0;31m---------------------------------------------------------------------------\u001b[0m",
      "\u001b[0;31mTypeError\u001b[0m                                 Traceback (most recent call last)",
      "Cell \u001b[0;32mIn[250], line 1\u001b[0m\n\u001b[0;32m----> 1\u001b[0m argentina[\u001b[38;5;241m0\u001b[39m] \u001b[38;5;241m=\u001b[39m \u001b[38;5;124m'\u001b[39m\u001b[38;5;124mARGENTINA\u001b[39m\u001b[38;5;124m'\u001b[39m\n",
      "\u001b[0;31mTypeError\u001b[0m: 'tuple' object does not support item assignment"
     ]
    }
   ],
   "source": [
    "argentina[0] = 'ARGENTINA'"
   ]
  },
  {
   "cell_type": "code",
   "execution_count": 252,
   "id": "3d470886-e33e-43a4-a224-df52266e9caf",
   "metadata": {},
   "outputs": [],
   "source": [
    "# DA ERROR PORQUE ES UNA TUPLA --> UNA VEZ QUE LA DEIFNO NO LA PUEDO MODIFICAR"
   ]
  },
  {
   "cell_type": "code",
   "execution_count": 254,
   "id": "90d2daf1-9663-413f-ae54-53d854a80c31",
   "metadata": {},
   "outputs": [
    {
     "data": {
      "text/plain": [
       "('ARG', 44939)"
      ]
     },
     "execution_count": 254,
     "metadata": {},
     "output_type": "execute_result"
    }
   ],
   "source": [
    "argentina[::]"
   ]
  },
  {
   "cell_type": "markdown",
   "id": "b82abbe7-7b3e-4001-95d5-168bb7a9034f",
   "metadata": {},
   "source": [
    "### Conjuntos (sets)\n",
    "\n",
    "Es una secuencia: no ordenada, mutabla, no admite valores repetidos, admite distintos tpos de elementos\n",
    "\n",
    "Si yo tengo una lista [1,2, 2,3,4] => el conjunto es {1,2,3,4} (misma lógica que conjutno matemático)"
   ]
  },
  {
   "cell_type": "code",
   "execution_count": 264,
   "id": "8eeb9a8f-e190-441d-8f0e-5952864eb277",
   "metadata": {},
   "outputs": [],
   "source": [
    "chl_limit = set(['ARG', 'BOL', 'PER'])"
   ]
  },
  {
   "cell_type": "code",
   "execution_count": 266,
   "id": "538e107e-f12f-4c33-a248-d2bc5f141d0e",
   "metadata": {},
   "outputs": [
    {
     "name": "stdout",
     "output_type": "stream",
     "text": [
      "{'BOL', 'PER', 'ARG'}\n"
     ]
    },
    {
     "data": {
      "text/plain": [
       "set"
      ]
     },
     "execution_count": 266,
     "metadata": {},
     "output_type": "execute_result"
    }
   ],
   "source": [
    "print(chl_limit)\n",
    "type(chl_limit)"
   ]
  },
  {
   "cell_type": "code",
   "execution_count": 268,
   "id": "785ecad1-1fa2-426a-b44b-ee847b179061",
   "metadata": {},
   "outputs": [
    {
     "data": {
      "text/plain": [
       "3"
      ]
     },
     "execution_count": 268,
     "metadata": {},
     "output_type": "execute_result"
    }
   ],
   "source": [
    "len(chl_limit)"
   ]
  },
  {
   "cell_type": "code",
   "execution_count": 270,
   "id": "2fc8b0b7-d9ba-4b26-90ed-12845dbab603",
   "metadata": {},
   "outputs": [
    {
     "ename": "TypeError",
     "evalue": "'set' object is not subscriptable",
     "output_type": "error",
     "traceback": [
      "\u001b[0;31m---------------------------------------------------------------------------\u001b[0m",
      "\u001b[0;31mTypeError\u001b[0m                                 Traceback (most recent call last)",
      "Cell \u001b[0;32mIn[270], line 1\u001b[0m\n\u001b[0;32m----> 1\u001b[0m chl_limit[\u001b[38;5;241m1\u001b[39m]\n",
      "\u001b[0;31mTypeError\u001b[0m: 'set' object is not subscriptable"
     ]
    }
   ],
   "source": [
    "chl_limit[1]"
   ]
  },
  {
   "cell_type": "code",
   "execution_count": 272,
   "id": "3c15cce8-0e44-46a0-b06a-79e010b3515e",
   "metadata": {},
   "outputs": [],
   "source": [
    "chl_limit.add(\"COL\")"
   ]
  },
  {
   "cell_type": "code",
   "execution_count": 274,
   "id": "5b53aa96-7d6a-4927-90dd-137c4c07d4c4",
   "metadata": {},
   "outputs": [
    {
     "name": "stdout",
     "output_type": "stream",
     "text": [
      "{'BOL', 'PER', 'ARG', 'COL'}\n"
     ]
    }
   ],
   "source": [
    "print(chl_limit)"
   ]
  },
  {
   "cell_type": "code",
   "execution_count": 276,
   "id": "dc3571ff-5b1a-4363-aed4-15978b7eb6bb",
   "metadata": {},
   "outputs": [
    {
     "name": "stdout",
     "output_type": "stream",
     "text": [
      "{'BRA', 'PER', 'BOL', 'ARG'}\n"
     ]
    }
   ],
   "source": [
    "chl_limit = set(['ARG', 'BRA', 'BOL', 'PER'])\n",
    "print(chl_limit)\n",
    "lim = ['URY', 'BRA', 'PRY', 'CHL', 'BOL']\n",
    "\n",
    "# Acá lo perdí --> ver código y agrgegar"
   ]
  },
  {
   "cell_type": "code",
   "execution_count": null,
   "id": "94035a90-ad91-40bb-951a-70d08284d99b",
   "metadata": {},
   "outputs": [],
   "source": []
  },
  {
   "cell_type": "code",
   "execution_count": null,
   "id": "09ddf58d-ff8e-4f5a-bff2-ffd7cead900c",
   "metadata": {},
   "outputs": [],
   "source": [
    "### (Acá lo alcancé, completar entre lo perdí y acá) "
   ]
  },
  {
   "cell_type": "markdown",
   "id": "98ecb23c-8049-45dd-a31c-26c726127314",
   "metadata": {},
   "source": [
    "### Diccionarios\n",
    "\n",
    "Conjunto de cosas a las que tenes asociados con una palabra. Tiene dos elementos: la key y despueés el valor"
   ]
  },
  {
   "cell_type": "code",
   "execution_count": 285,
   "id": "01cadbe7-948f-4421-8b9f-a477fa6c8193",
   "metadata": {},
   "outputs": [],
   "source": [
    "arg_carac = {'cod' : 'ARG', 'pob_millones':45, 'gdp_millones' : 'N'} # Le asigno el código, la población y el GDP (estos son las keys). A cada de una de ellas está asociado un valor\n",
    "bol_carac = {'cod' : 'BOL', 'pob_millones':11.5, 'gdp_millones' : 'N'}"
   ]
  },
  {
   "cell_type": "code",
   "execution_count": 281,
   "id": "8eaf0c95-a5e5-4709-a73c-6b6741a482f2",
   "metadata": {},
   "outputs": [],
   "source": [
    "# la llave con el valor se asocia con un \":\""
   ]
  },
  {
   "cell_type": "code",
   "execution_count": 287,
   "id": "5f623b38-9a29-4cd8-9407-3618cce0c04c",
   "metadata": {},
   "outputs": [
    {
     "name": "stdout",
     "output_type": "stream",
     "text": [
      "{'cod': 'BOL', 'pob_millones': 11.5, 'gdp_millones': 'N'}\n"
     ]
    },
    {
     "data": {
      "text/plain": [
       "3"
      ]
     },
     "execution_count": 287,
     "metadata": {},
     "output_type": "execute_result"
    }
   ],
   "source": [
    "print(bol_carac)\n",
    "len(bol_carac) # Cuán largo es el diccionario"
   ]
  },
  {
   "cell_type": "code",
   "execution_count": 293,
   "id": "f234e944-39a6-439d-b730-d4bc9ef2b577",
   "metadata": {},
   "outputs": [
    {
     "name": "stdout",
     "output_type": "stream",
     "text": [
      "dict_items([('cod', 'BOL'), ('pob_millones', 11.5), ('gdp_millones', 'N')])\n"
     ]
    }
   ],
   "source": [
    "print(bol_carac.items()) # con items lo que hace es me mete \"tuplas\" con \"key-respuesta\""
   ]
  },
  {
   "cell_type": "code",
   "execution_count": 295,
   "id": "5a5ec997-7005-4a11-b453-672ce848a0ca",
   "metadata": {},
   "outputs": [
    {
     "data": {
      "text/plain": [
       "'ARG'"
      ]
     },
     "execution_count": 295,
     "metadata": {},
     "output_type": "execute_result"
    }
   ],
   "source": [
    "arg_carac['cod'] # que me diga el valor asociado a la key \"cod\""
   ]
  },
  {
   "cell_type": "code",
   "execution_count": 297,
   "id": "82a3cb05-bf3c-439d-aee9-117f34e84630",
   "metadata": {},
   "outputs": [
    {
     "data": {
      "text/plain": [
       "'N'"
      ]
     },
     "execution_count": 297,
     "metadata": {},
     "output_type": "execute_result"
    }
   ],
   "source": [
    "bol_carac['gdp_millones']"
   ]
  },
  {
   "cell_type": "code",
   "execution_count": 299,
   "id": "2ed3755d-ed17-42a1-b48b-7ba7bc3c47be",
   "metadata": {},
   "outputs": [],
   "source": [
    "arg_carac['gdp_millones'] = 483765"
   ]
  },
  {
   "cell_type": "code",
   "execution_count": 301,
   "id": "790c70f7-46ab-4f4f-89b8-63070660d425",
   "metadata": {},
   "outputs": [],
   "source": [
    "bol_carac['gdp_millones'] = 40895"
   ]
  },
  {
   "cell_type": "code",
   "execution_count": 303,
   "id": "94ad8fbd-9243-449d-8147-fb90a7764d67",
   "metadata": {},
   "outputs": [
    {
     "name": "stdout",
     "output_type": "stream",
     "text": [
      "{'cod': 'ARG', 'pob_millones': 45, 'gdp_millones': 483765} {'cod': 'BOL', 'pob_millones': 11.5, 'gdp_millones': 40895}\n"
     ]
    }
   ],
   "source": [
    "print(arg_carac, bol_carac)"
   ]
  },
  {
   "cell_type": "code",
   "execution_count": 307,
   "id": "66a82b50-218c-43ea-ad1e-c133b480d5bf",
   "metadata": {},
   "outputs": [],
   "source": [
    "# Veo que modifiqué los dos valores del PIB "
   ]
  },
  {
   "cell_type": "markdown",
   "id": "f45e55f5-c864-4768-9a7b-6c9ecab430c4",
   "metadata": {},
   "source": [
    "Dado que el diccionario es algo mutbale puedo generar una nueva clave (key), otro nuevo par"
   ]
  },
  {
   "cell_type": "code",
   "execution_count": 310,
   "id": "fec90225-cb08-486d-934f-99cadeecab87",
   "metadata": {},
   "outputs": [],
   "source": [
    "arg_carac['gdp_pc'] = arg_carac['gdp_millones']/arg_carac['pob_millones']"
   ]
  },
  {
   "cell_type": "code",
   "execution_count": 312,
   "id": "e89a3453-9ec8-442f-8968-2760854f9747",
   "metadata": {},
   "outputs": [
    {
     "name": "stdout",
     "output_type": "stream",
     "text": [
      "{'cod': 'ARG', 'pob_millones': 45, 'gdp_millones': 483765, 'gdp_pc': 10750.333333333334}\n"
     ]
    }
   ],
   "source": [
    "print(arg_carac)"
   ]
  },
  {
   "cell_type": "code",
   "execution_count": 314,
   "id": "9b134dac-9a02-4d5c-8db3-65f008ce1c23",
   "metadata": {},
   "outputs": [
    {
     "data": {
      "text/plain": [
       "10750.333333333334"
      ]
     },
     "execution_count": 314,
     "metadata": {},
     "output_type": "execute_result"
    }
   ],
   "source": [
    "arg_carac.pop('gdp_pc') # elimno pib pc"
   ]
  },
  {
   "cell_type": "code",
   "execution_count": 318,
   "id": "6fdf1c32-0549-4d68-ba8a-915de4db57ad",
   "metadata": {},
   "outputs": [
    {
     "name": "stdout",
     "output_type": "stream",
     "text": [
      "{'cod': 'ARG', 'pob_millones': 45, 'gdp_millones': 483765}\n"
     ]
    }
   ],
   "source": [
    "print(arg_carac) # vemos que borré el gdp per capita"
   ]
  },
  {
   "cell_type": "code",
   "execution_count": 320,
   "id": "ca383ecf-ac04-4575-a6ef-f06d90d77cfd",
   "metadata": {},
   "outputs": [
    {
     "data": {
      "text/plain": [
       "dict_keys(['cod', 'pob_millones', 'gdp_millones'])"
      ]
     },
     "execution_count": 320,
     "metadata": {},
     "output_type": "execute_result"
    }
   ],
   "source": [
    "bol_carac.keys() # Quiero que me diga las keys. Me devuelve una lista con las disitnas keys del diccionario"
   ]
  },
  {
   "cell_type": "code",
   "execution_count": 324,
   "id": "da6832ed-b8fc-497d-9dd1-7a0f3f389797",
   "metadata": {},
   "outputs": [
    {
     "data": {
      "text/plain": [
       "dict_values(['BOL', 11.5, 40895])"
      ]
     },
     "execution_count": 324,
     "metadata": {},
     "output_type": "execute_result"
    }
   ],
   "source": [
    "bol_carac.values() # Me devuelve una tupla"
   ]
  },
  {
   "cell_type": "code",
   "execution_count": 326,
   "id": "78fee361-4258-444b-8774-d931a16283c1",
   "metadata": {},
   "outputs": [
    {
     "ename": "KeyError",
     "evalue": "'gdp'",
     "output_type": "error",
     "traceback": [
      "\u001b[0;31m---------------------------------------------------------------------------\u001b[0m",
      "\u001b[0;31mKeyError\u001b[0m                                  Traceback (most recent call last)",
      "Cell \u001b[0;32mIn[326], line 1\u001b[0m\n\u001b[0;32m----> 1\u001b[0m arg_carac[\u001b[38;5;124m'\u001b[39m\u001b[38;5;124mgdp\u001b[39m\u001b[38;5;124m'\u001b[39m]\n",
      "\u001b[0;31mKeyError\u001b[0m: 'gdp'"
     ]
    }
   ],
   "source": [
    "arg_carac['gdp'] # Quiero ver si tengo una variable que se llama gdp"
   ]
  },
  {
   "cell_type": "code",
   "execution_count": 328,
   "id": "daa58f8a-6938-46e2-ae09-acea6b29b7bc",
   "metadata": {},
   "outputs": [
    {
     "data": {
      "text/plain": [
       "'No value'"
      ]
     },
     "execution_count": 328,
     "metadata": {},
     "output_type": "execute_result"
    }
   ],
   "source": [
    "arg_carac.get('gdp', 'No value')"
   ]
  },
  {
   "cell_type": "code",
   "execution_count": 330,
   "id": "594eaaa9-5ccc-45a1-b8ce-cad24812cbd5",
   "metadata": {},
   "outputs": [],
   "source": [
    "paises = ['ARG', 'BOL', 'BRA', 'CHI', 'PRY', 'URY']"
   ]
  },
  {
   "cell_type": "code",
   "execution_count": 332,
   "id": "117a596c-0052-4e33-b143-d4bacdacb33f",
   "metadata": {},
   "outputs": [],
   "source": [
    "info_paises = dict.fromkeys(paises, '')"
   ]
  },
  {
   "cell_type": "code",
   "execution_count": 334,
   "id": "1da03965-6b69-4e11-b903-bdb6d104c991",
   "metadata": {},
   "outputs": [
    {
     "name": "stdout",
     "output_type": "stream",
     "text": [
      "{'ARG': '', 'BOL': '', 'BRA': '', 'CHI': '', 'PRY': '', 'URY': ''}\n"
     ]
    }
   ],
   "source": [
    "print(info_paises)"
   ]
  },
  {
   "cell_type": "code",
   "execution_count": 336,
   "id": "97507815-f01c-4842-828f-a0a8c63d0c70",
   "metadata": {},
   "outputs": [],
   "source": [
    " # vemos que todavía no tengo info para los países"
   ]
  },
  {
   "cell_type": "code",
   "execution_count": 338,
   "id": "1e2fecc7-7709-4e80-b639-925ed5f6fcbf",
   "metadata": {},
   "outputs": [],
   "source": [
    "poblacion = dict(zip(paises, pob_millones)) "
   ]
  },
  {
   "cell_type": "code",
   "execution_count": 340,
   "id": "72d6a981-e909-43f1-9690-988ef46c5b03",
   "metadata": {},
   "outputs": [
    {
     "name": "stdout",
     "output_type": "stream",
     "text": [
      "{'ARG': 46, 'BOL': 12, 'BRA': 214, 'CHI': 19, 'PRY': 14, 'URY': 3.5}\n"
     ]
    }
   ],
   "source": [
    "print(poblacion)"
   ]
  },
  {
   "cell_type": "code",
   "execution_count": 342,
   "id": "8b4b8944-87bb-4493-96cb-139b4e84f5f1",
   "metadata": {},
   "outputs": [],
   "source": [
    "# ACÁ ES CLAVE QUE LA LISTA TIENE UN ORDEN"
   ]
  },
  {
   "cell_type": "code",
   "execution_count": null,
   "id": "3239fe13-d5a3-4501-8e6b-3916fd9ddf02",
   "metadata": {},
   "outputs": [],
   "source": [
    "# VER CÓDIGO TOMI ACÁ PORQUE COPIO Y PEGO DE UN PDF QUE TENÍA"
   ]
  },
  {
   "cell_type": "code",
   "execution_count": null,
   "id": "fb0be057-82c6-4f9d-9c03-e7cb2532844d",
   "metadata": {},
   "outputs": [],
   "source": [
    "paises_info['brasil']['cod'] # Con doble corchete llamo un diccionario de un diccionario. "
   ]
  }
 ],
 "metadata": {
  "kernelspec": {
   "display_name": "Python 3 (ipykernel)",
   "language": "python",
   "name": "python3"
  },
  "language_info": {
   "codemirror_mode": {
    "name": "ipython",
    "version": 3
   },
   "file_extension": ".py",
   "mimetype": "text/x-python",
   "name": "python",
   "nbconvert_exporter": "python",
   "pygments_lexer": "ipython3",
   "version": "3.12.4"
  }
 },
 "nbformat": 4,
 "nbformat_minor": 5
}
